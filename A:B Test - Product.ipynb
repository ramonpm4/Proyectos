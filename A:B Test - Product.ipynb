{
 "cells": [
  {
   "cell_type": "markdown",
   "id": "8a1bfc18-81d5-4e37-b50e-0a99780b2543",
   "metadata": {},
   "source": [
    "# Product A/B Test - Ramon Peralta Martinez\n",
    "----------\n",
    "\n",
    "A company builds state of the art Natural Language Processing and Machine Learning tools that empower human customer service representatives to drastically increase their efficiency. The company is constantly improving upon these tools, and running experiments to ensure that changes to the machine learning models lead to increases in agent efficieny.\n",
    "\n",
    "One of company's ML features is \"auto-response\", where the system suggests the next message a representative should send. The representative can opt to use the suggested message, or type out their own. The more often the representative uses the suggested message the more successful we consider the feature to be. The company tracked  a metric called `augmentation_rate`, which is the percentage of representative sent messages that came from the auto-response system.\n",
    "\n",
    "Goals\n",
    "1) Summarize the dataset (N, dates, group balance).\n",
    "2) Assess experimental design (randomization unit, exposure, potential biases).\n",
    "3) Estimate the treatment effect on `augmentation_rate` with uncertainty (95% CI via bootstrap or robust regression).\n"
   ]
  },
  {
   "cell_type": "markdown",
   "id": "68d08222-9921-4529-9e1c-09fdf8cd144b",
   "metadata": {},
   "source": [
    "# Dataset:"
   ]
  },
  {
   "cell_type": "code",
   "execution_count": 1,
   "id": "acf5c489-4c94-47a4-988a-2ca035b9ef2a",
   "metadata": {},
   "outputs": [],
   "source": [
    "import pandas as pd\n",
    "import matplotlib.pyplot as plt\n",
    "import seaborn as sns\n",
    "import numpy as np\n",
    "\n",
    "import scipy.stats as stats\n",
    "\n",
    "import statsmodels.api as sm\n",
    "import statsmodels.formula.api as smf"
   ]
  },
  {
   "cell_type": "code",
   "execution_count": 2,
   "id": "5f27115d-f1e5-45fd-8844-c130b495cbd5",
   "metadata": {},
   "outputs": [
    {
     "data": {
      "text/html": [
       "<div>\n",
       "<style scoped>\n",
       "    .dataframe tbody tr th:only-of-type {\n",
       "        vertical-align: middle;\n",
       "    }\n",
       "\n",
       "    .dataframe tbody tr th {\n",
       "        vertical-align: top;\n",
       "    }\n",
       "\n",
       "    .dataframe thead th {\n",
       "        text-align: right;\n",
       "    }\n",
       "</style>\n",
       "<table border=\"1\" class=\"dataframe\">\n",
       "  <thead>\n",
       "    <tr style=\"text-align: right;\">\n",
       "      <th></th>\n",
       "      <th>start_time</th>\n",
       "      <th>rep_id</th>\n",
       "      <th>rep_sent_msgs</th>\n",
       "      <th>augmented_msgs</th>\n",
       "      <th>treatment</th>\n",
       "    </tr>\n",
       "  </thead>\n",
       "  <tbody>\n",
       "    <tr>\n",
       "      <th>0</th>\n",
       "      <td>2018-10-15 04:35:36</td>\n",
       "      <td>1160001</td>\n",
       "      <td>12</td>\n",
       "      <td>1</td>\n",
       "      <td>False</td>\n",
       "    </tr>\n",
       "    <tr>\n",
       "      <th>1</th>\n",
       "      <td>2018-10-15 04:34:33</td>\n",
       "      <td>4140001</td>\n",
       "      <td>8</td>\n",
       "      <td>3</td>\n",
       "      <td>False</td>\n",
       "    </tr>\n",
       "    <tr>\n",
       "      <th>2</th>\n",
       "      <td>2018-10-15 04:24:53</td>\n",
       "      <td>4450001</td>\n",
       "      <td>13</td>\n",
       "      <td>2</td>\n",
       "      <td>False</td>\n",
       "    </tr>\n",
       "    <tr>\n",
       "      <th>3</th>\n",
       "      <td>2018-10-15 04:33:34</td>\n",
       "      <td>4140001</td>\n",
       "      <td>9</td>\n",
       "      <td>1</td>\n",
       "      <td>False</td>\n",
       "    </tr>\n",
       "    <tr>\n",
       "      <th>4</th>\n",
       "      <td>2018-10-15 04:40:02</td>\n",
       "      <td>3320001</td>\n",
       "      <td>5</td>\n",
       "      <td>5</td>\n",
       "      <td>False</td>\n",
       "    </tr>\n",
       "    <tr>\n",
       "      <th>...</th>\n",
       "      <td>...</td>\n",
       "      <td>...</td>\n",
       "      <td>...</td>\n",
       "      <td>...</td>\n",
       "      <td>...</td>\n",
       "    </tr>\n",
       "    <tr>\n",
       "      <th>69109</th>\n",
       "      <td>2018-11-20 06:31:56</td>\n",
       "      <td>3370001</td>\n",
       "      <td>8</td>\n",
       "      <td>2</td>\n",
       "      <td>True</td>\n",
       "    </tr>\n",
       "    <tr>\n",
       "      <th>69110</th>\n",
       "      <td>2018-11-20 19:12:16</td>\n",
       "      <td>510001</td>\n",
       "      <td>10</td>\n",
       "      <td>1</td>\n",
       "      <td>False</td>\n",
       "    </tr>\n",
       "    <tr>\n",
       "      <th>69111</th>\n",
       "      <td>2018-11-20 19:17:30</td>\n",
       "      <td>1290001</td>\n",
       "      <td>27</td>\n",
       "      <td>8</td>\n",
       "      <td>False</td>\n",
       "    </tr>\n",
       "    <tr>\n",
       "      <th>69112</th>\n",
       "      <td>2018-11-20 19:19:00</td>\n",
       "      <td>670001</td>\n",
       "      <td>2</td>\n",
       "      <td>2</td>\n",
       "      <td>False</td>\n",
       "    </tr>\n",
       "    <tr>\n",
       "      <th>69113</th>\n",
       "      <td>2018-11-20 19:12:40</td>\n",
       "      <td>1830001</td>\n",
       "      <td>8</td>\n",
       "      <td>6</td>\n",
       "      <td>False</td>\n",
       "    </tr>\n",
       "  </tbody>\n",
       "</table>\n",
       "<p>69114 rows × 5 columns</p>\n",
       "</div>"
      ],
      "text/plain": [
       "                start_time   rep_id  rep_sent_msgs  augmented_msgs  treatment\n",
       "0      2018-10-15 04:35:36  1160001             12               1      False\n",
       "1      2018-10-15 04:34:33  4140001              8               3      False\n",
       "2      2018-10-15 04:24:53  4450001             13               2      False\n",
       "3      2018-10-15 04:33:34  4140001              9               1      False\n",
       "4      2018-10-15 04:40:02  3320001              5               5      False\n",
       "...                    ...      ...            ...             ...        ...\n",
       "69109  2018-11-20 06:31:56  3370001              8               2       True\n",
       "69110  2018-11-20 19:12:16   510001             10               1      False\n",
       "69111  2018-11-20 19:17:30  1290001             27               8      False\n",
       "69112  2018-11-20 19:19:00   670001              2               2      False\n",
       "69113  2018-11-20 19:12:40  1830001              8               6      False\n",
       "\n",
       "[69114 rows x 5 columns]"
      ]
     },
     "execution_count": 2,
     "metadata": {},
     "output_type": "execute_result"
    }
   ],
   "source": [
    "df = pd.read_csv('/Users/ramon/Proyectos Data Science/A:B Test/data/data.csv')\n",
    "df"
   ]
  },
  {
   "cell_type": "code",
   "execution_count": 3,
   "id": "e2d03466-3904-43bb-a99c-b3932cf8ad36",
   "metadata": {},
   "outputs": [
    {
     "name": "stdout",
     "output_type": "stream",
     "text": [
      "<class 'pandas.core.frame.DataFrame'>\n",
      "RangeIndex: 69114 entries, 0 to 69113\n",
      "Data columns (total 5 columns):\n",
      " #   Column          Non-Null Count  Dtype \n",
      "---  ------          --------------  ----- \n",
      " 0   start_time      69114 non-null  object\n",
      " 1   rep_id          69114 non-null  int64 \n",
      " 2   rep_sent_msgs   69114 non-null  int64 \n",
      " 3   augmented_msgs  69114 non-null  int64 \n",
      " 4   treatment       69114 non-null  bool  \n",
      "dtypes: bool(1), int64(3), object(1)\n",
      "memory usage: 2.2+ MB\n"
     ]
    }
   ],
   "source": [
    "df.info()"
   ]
  },
  {
   "cell_type": "markdown",
   "id": "e64e0d16-5896-42e6-bf9f-25522e91708c",
   "metadata": {},
   "source": [
    "## Defining Column Names:\n",
    "1. `start_time`: Timestamp indicating when the representative’s session started.\n",
    "2. `rep_id `: Unique identifier of the human customer service representative.\n",
    "3. `rep_sent_msgs`: Total number of messages sent by the representative during the session. Includes both manual and auto-response messages.\n",
    "4. `augmented_msgs`: Number of messages sent by the representative that were selected from the auto-response suggestions.\n",
    "5. `treatment`: Boolean flag indicating whether the representative was exposed to the new model (True) or remained in the control group with the baseline model (False)."
   ]
  },
  {
   "cell_type": "markdown",
   "id": "60cd3bfe-5a1d-424e-aa19-77d4434e4096",
   "metadata": {},
   "source": [
    "# 1) Dataset Exploration:"
   ]
  },
  {
   "cell_type": "code",
   "execution_count": 4,
   "id": "d2336e30-e342-4d7f-a540-82764f5ef39e",
   "metadata": {},
   "outputs": [
    {
     "data": {
      "text/plain": [
       "start_time        0\n",
       "rep_id            0\n",
       "rep_sent_msgs     0\n",
       "augmented_msgs    0\n",
       "treatment         0\n",
       "dtype: int64"
      ]
     },
     "execution_count": 4,
     "metadata": {},
     "output_type": "execute_result"
    }
   ],
   "source": [
    "df.isnull().sum()"
   ]
  },
  {
   "cell_type": "markdown",
   "id": "8f53b584-f9e8-4771-90d4-1e3ba094227a",
   "metadata": {},
   "source": [
    "We have no null data."
   ]
  },
  {
   "cell_type": "code",
   "execution_count": 5,
   "id": "e4aed516-6197-460d-b8be-4ba6560275b5",
   "metadata": {},
   "outputs": [],
   "source": [
    "df['start_time'] = pd.to_datetime(df['start_time'])"
   ]
  },
  {
   "cell_type": "code",
   "execution_count": 6,
   "id": "cef04158-9d12-4b12-b625-13ebcab747a8",
   "metadata": {},
   "outputs": [
    {
     "name": "stdout",
     "output_type": "stream",
     "text": [
      "<class 'pandas.core.frame.DataFrame'>\n",
      "RangeIndex: 69114 entries, 0 to 69113\n",
      "Data columns (total 5 columns):\n",
      " #   Column          Non-Null Count  Dtype         \n",
      "---  ------          --------------  -----         \n",
      " 0   start_time      69114 non-null  datetime64[ns]\n",
      " 1   rep_id          69114 non-null  int64         \n",
      " 2   rep_sent_msgs   69114 non-null  int64         \n",
      " 3   augmented_msgs  69114 non-null  int64         \n",
      " 4   treatment       69114 non-null  bool          \n",
      "dtypes: bool(1), datetime64[ns](1), int64(3)\n",
      "memory usage: 2.2 MB\n"
     ]
    }
   ],
   "source": [
    "df.info()"
   ]
  },
  {
   "cell_type": "code",
   "execution_count": 7,
   "id": "c942c1c1-2ff8-4338-9508-f19365eaa2fe",
   "metadata": {},
   "outputs": [
    {
     "data": {
      "text/plain": [
       "treatment\n",
       "False    49371\n",
       "True     19743\n",
       "Name: count, dtype: int64"
      ]
     },
     "execution_count": 7,
     "metadata": {},
     "output_type": "execute_result"
    }
   ],
   "source": [
    "df['treatment'].value_counts()"
   ]
  },
  {
   "cell_type": "markdown",
   "id": "edba52f5-2a90-4782-9198-dfb9b6487fa6",
   "metadata": {},
   "source": [
    "We are dealing with an imbalanced test, where the sample sizes between the control and treatment groups are not equal. This discrepancy may arise from two main causes:\n",
    "1. **Planning or Execution Error:** The imbalance could be due to issues during the planning or implementation of the A/B test.\n",
    "2. **Sample Ratio Mismatch (SRM):** The test was designed to randomly assign users into control and treatment groups, with an expected 50/50 split. However, the actual assignment deviated significantly from this ratio. SRM may be due to:\n",
    "2.1 Technical failure in randomization.\n",
    "2.2 There is dependency on a feature correlated with time or user attributes. For instance, if the assignment mechanism was sensitive to request time, it could result in imbalanced exposure."
   ]
  },
  {
   "cell_type": "markdown",
   "id": "5c5d5c05-b35e-4b93-9b9b-4393c827a7ba",
   "metadata": {},
   "source": [
    "### Analyzing SRM:\n",
    "- **H0:** The proportion of users assigned to control and treatment is 50/50 (as expected).\n",
    "- **H1:** The observed proportions significantly deviate from 50/50."
   ]
  },
  {
   "cell_type": "code",
   "execution_count": 8,
   "id": "4d6cfd29-e1d1-4f24-a6c6-3d9a0a3c5343",
   "metadata": {},
   "outputs": [
    {
     "name": "stderr",
     "output_type": "stream",
     "text": [
      "/var/folders/1y/sfg_0ln97_v8yq2pt86x31n80000gn/T/ipykernel_10990/1600578541.py:1: FutureWarning: Series.__getitem__ treating keys as positions is deprecated. In a future version, integer keys will always be treated as labels (consistent with DataFrame behavior). To access a value by position, use `ser.iloc[pos]`\n",
      "  observed = [df['treatment'].value_counts()[0], df['treatment'].value_counts()[1]]\n"
     ]
    },
    {
     "data": {
      "text/plain": [
       "[49371, 19743]"
      ]
     },
     "execution_count": 8,
     "metadata": {},
     "output_type": "execute_result"
    }
   ],
   "source": [
    "observed = [df['treatment'].value_counts()[0], df['treatment'].value_counts()[1]]\n",
    "observed"
   ]
  },
  {
   "cell_type": "code",
   "execution_count": 9,
   "id": "3b8b3e9a-acab-4722-a57d-e32ddd3b6943",
   "metadata": {},
   "outputs": [
    {
     "name": "stdout",
     "output_type": "stream",
     "text": [
      "chi2: 12701.021269207396, p_value: ´0.000\n"
     ]
    }
   ],
   "source": [
    "total = sum(observed)\n",
    "expected = [total/2, total/2]\n",
    "\n",
    "chi2, p_value = stats.chisquare(f_obs=observed, f_exp=expected)\n",
    "\n",
    "print(f'chi2: {chi2}, p_value: ´{p_value:.3f}')"
   ]
  },
  {
   "cell_type": "markdown",
   "id": "eaa18436-977e-47ae-8227-29263f3a50aa",
   "metadata": {},
   "source": [
    "As p_value is < 0.05 there is evidence of SRM.\n",
    "\n",
    "This is importance as suggests a violation of the assumption of randomization, which is essential for the validity of your A/B test. "
   ]
  },
  {
   "cell_type": "code",
   "execution_count": 10,
   "id": "85379cad-6589-4624-abb9-448ed0174db9",
   "metadata": {},
   "outputs": [],
   "source": [
    "df['day_of_week'] = df['start_time'].dt.day_name()\n",
    "df['month'] = df['start_time'].dt.month\n",
    "df['hour'] = df['start_time'].dt.hour"
   ]
  },
  {
   "cell_type": "code",
   "execution_count": 11,
   "id": "2d8004da-522b-4ae3-add4-5212e700dec0",
   "metadata": {},
   "outputs": [
    {
     "data": {
      "text/plain": [
       "treatment  month\n",
       "False      11       26452\n",
       "           10       22919\n",
       "True       11       19743\n",
       "Name: count, dtype: int64"
      ]
     },
     "execution_count": 11,
     "metadata": {},
     "output_type": "execute_result"
    }
   ],
   "source": [
    "df.groupby('treatment')['month'].value_counts()"
   ]
  },
  {
   "cell_type": "markdown",
   "id": "b213ec6f-0ec0-42f7-8274-32343cce2a19",
   "metadata": {},
   "source": [
    "This is very interesting, it appears that treatment was only assigned for representatives in November and not October. Either the real experiment started in November or the assignment mechanism started funcitoning in November. "
   ]
  },
  {
   "cell_type": "code",
   "execution_count": 12,
   "id": "f97ba519-2c86-434c-9566-2d08db9f11bd",
   "metadata": {},
   "outputs": [],
   "source": [
    "day_week = df.groupby('treatment')['day_of_week'].value_counts().reset_index()"
   ]
  },
  {
   "cell_type": "code",
   "execution_count": 13,
   "id": "c3e5072d-6107-4df2-9ad1-d1291c79d9c6",
   "metadata": {},
   "outputs": [
    {
     "data": {
      "text/plain": [
       "<Axes: xlabel='day_of_week', ylabel='count'>"
      ]
     },
     "execution_count": 13,
     "metadata": {},
     "output_type": "execute_result"
    },
    {
     "data": {
      "image/png": "[encoded data removed]",
      "text/plain": [
       "<Figure size 640x480 with 1 Axes>"
      ]
     },
     "metadata": {},
     "output_type": "display_data"
    }
   ],
   "source": [
    "sns.barplot(day_week, x='day_of_week', y='count', hue='treatment')"
   ]
  },
  {
   "cell_type": "code",
   "execution_count": 14,
   "id": "a3c3312f-c7d8-46a5-9b9d-6e07ec36938d",
   "metadata": {},
   "outputs": [],
   "source": [
    "hour = df.groupby('treatment')['hour'].value_counts().reset_index()"
   ]
  },
  {
   "cell_type": "code",
   "execution_count": 15,
   "id": "b26af7ed-7d1f-4025-8227-451726439825",
   "metadata": {},
   "outputs": [
    {
     "data": {
      "text/plain": [
       "<Axes: xlabel='hour', ylabel='count'>"
      ]
     },
     "execution_count": 15,
     "metadata": {},
     "output_type": "execute_result"
    },
    {
     "data": {
      "image/png": "[encoded data removed]",
      "text/plain": [
       "<Figure size 640x480 with 1 Axes>"
      ]
     },
     "metadata": {},
     "output_type": "display_data"
    }
   ],
   "source": [
    "sns.barplot(hour, x='hour', y='count', hue='treatment')"
   ]
  },
  {
   "cell_type": "markdown",
   "id": "faa96d86-6019-42b9-b0e4-f8fb4df98655",
   "metadata": {},
   "source": [
    "The start_time of the messages is lower between 9-14 hr. However there is no visual evidence suggesting a bias in the assignment of the treatment.\n",
    "\n",
    "\n",
    "#### Conclusion of SRM Analysis:\n",
    "The issignment of the treatment started in November. "
   ]
  },
  {
   "cell_type": "code",
   "execution_count": 16,
   "id": "dea787c1-93e2-45d9-8806-7749846f7c28",
   "metadata": {},
   "outputs": [
    {
     "data": {
      "image/png": "[encoded data removed]",
      "text/plain": [
       "<Figure size 640x480 with 1 Axes>"
      ]
     },
     "metadata": {},
     "output_type": "display_data"
    }
   ],
   "source": [
    "plt.hist(df[df['treatment']==False]['rep_sent_msgs'], bins = 40)\n",
    "plt.hist(df[df['treatment']==True]['rep_sent_msgs'], bins = 40)\n",
    "plt.show()"
   ]
  },
  {
   "cell_type": "code",
   "execution_count": null,
   "id": "69722618-d0f3-43c4-b227-2058a7f66a9d",
   "metadata": {},
   "outputs": [],
   "source": []
  },
  {
   "cell_type": "code",
   "execution_count": 35,
   "id": "5848cffe-4a0b-4f0c-83a3-d94515c1b620",
   "metadata": {},
   "outputs": [
    {
     "data": {
      "text/html": [
       "<div>\n",
       "<style scoped>\n",
       "    .dataframe tbody tr th:only-of-type {\n",
       "        vertical-align: middle;\n",
       "    }\n",
       "\n",
       "    .dataframe tbody tr th {\n",
       "        vertical-align: top;\n",
       "    }\n",
       "\n",
       "    .dataframe thead th {\n",
       "        text-align: right;\n",
       "    }\n",
       "</style>\n",
       "<table border=\"1\" class=\"dataframe\">\n",
       "  <thead>\n",
       "    <tr style=\"text-align: right;\">\n",
       "      <th></th>\n",
       "      <th>start_time</th>\n",
       "      <th>rep_id</th>\n",
       "      <th>rep_sent_msgs</th>\n",
       "      <th>augmented_msgs</th>\n",
       "      <th>treatment</th>\n",
       "      <th>day_of_week</th>\n",
       "      <th>month</th>\n",
       "      <th>hour</th>\n",
       "      <th>failures</th>\n",
       "    </tr>\n",
       "  </thead>\n",
       "  <tbody>\n",
       "    <tr>\n",
       "      <th>5611</th>\n",
       "      <td>2018-11-01 01:19:30</td>\n",
       "      <td>1130001</td>\n",
       "      <td>33</td>\n",
       "      <td>3</td>\n",
       "      <td>False</td>\n",
       "      <td>Thursday</td>\n",
       "      <td>11</td>\n",
       "      <td>1</td>\n",
       "      <td>30</td>\n",
       "    </tr>\n",
       "    <tr>\n",
       "      <th>5612</th>\n",
       "      <td>2018-11-01 01:16:44</td>\n",
       "      <td>3370001</td>\n",
       "      <td>18</td>\n",
       "      <td>4</td>\n",
       "      <td>False</td>\n",
       "      <td>Thursday</td>\n",
       "      <td>11</td>\n",
       "      <td>1</td>\n",
       "      <td>14</td>\n",
       "    </tr>\n",
       "    <tr>\n",
       "      <th>5613</th>\n",
       "      <td>2018-11-01 01:06:47</td>\n",
       "      <td>1130001</td>\n",
       "      <td>17</td>\n",
       "      <td>1</td>\n",
       "      <td>False</td>\n",
       "      <td>Thursday</td>\n",
       "      <td>11</td>\n",
       "      <td>1</td>\n",
       "      <td>16</td>\n",
       "    </tr>\n",
       "    <tr>\n",
       "      <th>5614</th>\n",
       "      <td>2018-11-01 01:18:07</td>\n",
       "      <td>1540001</td>\n",
       "      <td>17</td>\n",
       "      <td>1</td>\n",
       "      <td>False</td>\n",
       "      <td>Thursday</td>\n",
       "      <td>11</td>\n",
       "      <td>1</td>\n",
       "      <td>16</td>\n",
       "    </tr>\n",
       "    <tr>\n",
       "      <th>5615</th>\n",
       "      <td>2018-11-01 01:26:04</td>\n",
       "      <td>3320001</td>\n",
       "      <td>9</td>\n",
       "      <td>7</td>\n",
       "      <td>False</td>\n",
       "      <td>Thursday</td>\n",
       "      <td>11</td>\n",
       "      <td>1</td>\n",
       "      <td>2</td>\n",
       "    </tr>\n",
       "  </tbody>\n",
       "</table>\n",
       "</div>"
      ],
      "text/plain": [
       "              start_time   rep_id  rep_sent_msgs  augmented_msgs  treatment  \\\n",
       "5611 2018-11-01 01:19:30  1130001             33               3      False   \n",
       "5612 2018-11-01 01:16:44  3370001             18               4      False   \n",
       "5613 2018-11-01 01:06:47  1130001             17               1      False   \n",
       "5614 2018-11-01 01:18:07  1540001             17               1      False   \n",
       "5615 2018-11-01 01:26:04  3320001              9               7      False   \n",
       "\n",
       "     day_of_week  month  hour  failures  \n",
       "5611    Thursday     11     1        30  \n",
       "5612    Thursday     11     1        14  \n",
       "5613    Thursday     11     1        16  \n",
       "5614    Thursday     11     1        16  \n",
       "5615    Thursday     11     1         2  "
      ]
     },
     "execution_count": 35,
     "metadata": {},
     "output_type": "execute_result"
    }
   ],
   "source": [
    "df_nov = df[df['month'] == 11].copy()\n",
    "df_nov.head()"
   ]
  },
  {
   "cell_type": "code",
   "execution_count": 71,
   "id": "37d5a0d4-6419-4300-89a3-cc17e0eac75e",
   "metadata": {},
   "outputs": [
    {
     "data": {
      "text/plain": [
       "treatment\n",
       "False    26452\n",
       "True     19743\n",
       "Name: count, dtype: int64"
      ]
     },
     "execution_count": 71,
     "metadata": {},
     "output_type": "execute_result"
    }
   ],
   "source": [
    "df_nov.groupby('treatment')['treatment'].value_counts()"
   ]
  },
  {
   "cell_type": "code",
   "execution_count": 78,
   "id": "95992834-f842-42fd-a6ba-20dafd7cb9c5",
   "metadata": {},
   "outputs": [
    {
     "name": "stdout",
     "output_type": "stream",
     "text": [
      "0.57\n",
      "0.43\n"
     ]
    }
   ],
   "source": [
    "false_prop = df_nov[df_nov['treatment'] == False]['treatment'].count() / len(df_nov)\n",
    "true_prop = df_nov[df_nov['treatment'] == True]['treatment'].count() / len(df_nov)\n",
    "\n",
    "print(round(false_prop,2))\n",
    "print(round(true_prop,2))"
   ]
  },
  {
   "cell_type": "code",
   "execution_count": 39,
   "id": "6c103bb3-bd4f-415c-908c-434516026ffa",
   "metadata": {},
   "outputs": [
    {
     "data": {
      "text/plain": [
       "46195"
      ]
     },
     "execution_count": 39,
     "metadata": {},
     "output_type": "execute_result"
    }
   ],
   "source": [
    "len(df_nov)"
   ]
  },
  {
   "cell_type": "markdown",
   "id": "ba410087-e5a8-423e-8c18-5a41d922898a",
   "metadata": {},
   "source": [
    "# 2) Data Modeling:"
   ]
  },
  {
   "cell_type": "markdown",
   "id": "63cd38be-627d-4d6e-8c7c-c98a603cc958",
   "metadata": {},
   "source": [
    "We will model the data as a Binomial Regression. This means to evaluate if the amount of `augmented_messages` as binomial success over the `rep_sent_msgs`. We model the probability of success of the binomial experiment as a means of treatment, `hour` and `rep_sent_msgs`. \n",
    "\n",
    "\n",
    "`augmented_messages` ~ *Binomial*(*n*=rep_sent_msgs, *p*) "
   ]
  },
  {
   "cell_type": "markdown",
   "id": "dcd85446-f99e-45ac-b22a-4e09f37420e8",
   "metadata": {},
   "source": [
    "**The model estimates:**\n",
    "\n",
    "ln(*p*/(1-*p*)) = ln(odds) = B0 + B1.Treatment + B2.hour + B3.rep_sent_msgs\n",
    "\n",
    "Where odds is the ratio between the probability of the message of being augmented respect to the probability of being not augmented."
   ]
  },
  {
   "cell_type": "code",
   "execution_count": 22,
   "id": "d4f404b5-9074-4969-a712-7d9976546ca8",
   "metadata": {},
   "outputs": [],
   "source": [
    "df_nov[\"failures\"] = df_nov[\"rep_sent_msgs\"] - df_nov[\"augmented_msgs\"]"
   ]
  },
  {
   "cell_type": "code",
   "execution_count": 26,
   "id": "c426fc28-b41d-4d00-a715-4320a52127a7",
   "metadata": {},
   "outputs": [],
   "source": [
    "model = smf.glm(\"augmented_msgs + failures ~ treatment + hour + rep_sent_msgs\", \n",
    "                data=df_nov, \n",
    "                family=sm.families.Binomial())\n",
    "\n",
    "result = model.fit(cov_type=\"HC3\")  "
   ]
  },
  {
   "cell_type": "code",
   "execution_count": 48,
   "id": "c5374463-dcf4-4c8c-b8ce-8c63b211180f",
   "metadata": {},
   "outputs": [
    {
     "data": {
      "text/plain": [
       "3.49"
      ]
     },
     "execution_count": 48,
     "metadata": {},
     "output_type": "execute_result"
    }
   ],
   "source": [
    "# calculat the overdispersion index. \n",
    "\n",
    "round(result.pearson_chi2 / result.df_resid,2)\n",
    "\n",
    "# sum of pearson residuals / residuals LG."
   ]
  },
  {
   "cell_type": "markdown",
   "id": "1c9f11c6-7789-4c78-b40c-16c666b0fd50",
   "metadata": {},
   "source": [
    "This shows there is overdispersion. This meands there is more variablity than expected by the mdel. reason why correcting standard errors is important. The correction does not correct the overdispersion but adjusts the SE for a robust inference."
   ]
  },
  {
   "cell_type": "code",
   "execution_count": 28,
   "id": "e8e230f7-97eb-4eb0-ad28-52888366f85b",
   "metadata": {},
   "outputs": [
    {
     "name": "stdout",
     "output_type": "stream",
     "text": [
      "                       Generalized Linear Model Regression Results                        \n",
      "==========================================================================================\n",
      "Dep. Variable:     ['augmented_msgs', 'failures']   No. Observations:                46195\n",
      "Model:                                        GLM   Df Residuals:                    46191\n",
      "Model Family:                            Binomial   Df Model:                            3\n",
      "Link Function:                              Logit   Scale:                          1.0000\n",
      "Method:                                      IRLS   Log-Likelihood:            -1.4617e+05\n",
      "Date:                            Wed, 30 Jul 2025   Deviance:                   1.8579e+05\n",
      "Time:                                    12:27:39   Pearson chi2:                 1.61e+05\n",
      "No. Iterations:                                 4   Pseudo R-squ. (CS):           0.001524\n",
      "Covariance Type:                              HC3                                         \n",
      "=====================================================================================\n",
      "                        coef    std err          z      P>|z|      [0.025      0.975]\n",
      "-------------------------------------------------------------------------------------\n",
      "Intercept            -0.3403      0.015    -22.569      0.000      -0.370      -0.311\n",
      "treatment[T.True]    -0.0173      0.012     -1.443      0.149      -0.041       0.006\n",
      "hour                  0.0020      0.001      2.840      0.005       0.001       0.003\n",
      "rep_sent_msgs        -0.0005      0.001     -0.909      0.363      -0.002       0.001\n",
      "=====================================================================================\n"
     ]
    }
   ],
   "source": [
    "print(result.summary())"
   ]
  },
  {
   "cell_type": "markdown",
   "id": "57035ee4-d887-4dda-a437-8713a2702053",
   "metadata": {},
   "source": [
    "B1 (i.e. effect of tratment): `-0.0173`. This is the `ln(Odds Ratio)`, `Odds Ratio = odds_treatment / odds_control`. As the confidence interval includes 0, `OR ~ 0`. This means the chance of a message being augmented in the treatment is not statistically different respect to control.\n",
    "\n",
    "**There is no statisticaly significant effect of the tratment** over the number of augmented responses. The inference is valid do to standard error correction.   "
   ]
  },
  {
   "cell_type": "markdown",
   "id": "31674a88-3dce-4fa9-82ed-b28236abc701",
   "metadata": {},
   "source": [
    "## Model Supposals:\n",
    "\n",
    "### 3.1) Independence:"
   ]
  },
  {
   "cell_type": "markdown",
   "id": "b67a7707-9254-4067-9332-523c59953256",
   "metadata": {},
   "source": [
    "There is some lack of independence within observations, as the number of augmented messages comes from the same conversation, introducing  overdispersion. However, we addressed this by using HC3 robust standard errors, which improves the reliability of the statistical inference."
   ]
  },
  {
   "cell_type": "markdown",
   "id": "9d558c8e-af90-4146-83f8-3c4192a221dc",
   "metadata": {},
   "source": [
    "### 3.2) Pattern in residuals:"
   ]
  },
  {
   "cell_type": "code",
   "execution_count": 30,
   "id": "7246dc93-c57d-426b-ab00-0381f622a57d",
   "metadata": {},
   "outputs": [
    {
     "data": {
      "image/png": "[encoded data removed]",
      "text/plain": [
       "<Figure size 640x480 with 1 Axes>"
      ]
     },
     "metadata": {},
     "output_type": "display_data"
    }
   ],
   "source": [
    "fitted = result.fittedvalues\n",
    "resid = result.resid_deviance\n",
    "\n",
    "plt.scatter(fitted, resid, alpha=0.3)\n",
    "plt.axhline(0, color='red', linestyle='--')\n",
    "plt.xlabel(\"Fitted values\")\n",
    "plt.ylabel(\"Residuals\")\n",
    "plt.title(\"Fitted values vs Residuals\")\n",
    "plt.show()"
   ]
  },
  {
   "cell_type": "markdown",
   "id": "ef02f9d2-64b1-4797-ba3e-7c3568451a88",
   "metadata": {},
   "source": [
    "No evidence of symetric patterns"
   ]
  },
  {
   "cell_type": "markdown",
   "id": "b290ca00-a4cf-4c59-89bb-7eb13831ba43",
   "metadata": {},
   "source": [
    "# 3) Report:"
   ]
  },
  {
   "cell_type": "markdown",
   "id": "2e8ddd4d-a0d7-42b4-8950-5d75c432f132",
   "metadata": {},
   "source": [
    "## Overview: \n",
    "\n",
    "We conducted an A/B experiment to determine if the changes in the new model increased the proportion of augmented messages sent by the agent. This report summarizes the findings based on a statistical model applied to the results of 46,195 conversations.\n",
    "\n",
    "## Experimental Design:\n",
    "The original dataset was imbalanced across conditions. To reduce this, we selected only data from November, the period when both treatment and control were concurrently active, resulting in a less imbalanced sample (43% treatment, 57% control). We also included other relevant variables and adjusted the standard error. For future experiments, we recommend a balanced randomized treatment assignment to avoid potential bias.\n",
    "\n",
    "## Model and Assumptions:\n",
    "We used a binomial generalized linear model (GLM) with robust standard error to:\n",
    "1. model the number of augmented messages sent out of the total messages sent per conversation.\n",
    "2. account for variability in conversation length and time of day.\n",
    "\n",
    "\n",
    "The inclsion of these variables and the correction of standard errors helps mitigate the bias caused by intra-conversation correlation. These helps correct the significance to do inference.\n",
    "\n",
    "## Key Results:\n",
    "- B1 (i.e. tratment coefficient): `-0.0173`. This is the `ln(Odds Ratio)`, `Odds Ratio = odds_treatment / odds_control`. As the confidence interval includes 0, `OR ~ 0`. This means the chance of a message being augmented in the treatment is not statistically different respect to control.The inference is valid do to standard error correction. \n",
    "- p-value: < 0.05. **There is no statisticaly significant effect of the tratment** over the number of augmented responses.\n",
    "\n",
    "## Interpretation:\n",
    "- No statistically significant impact of the new model on augmentation rate was found."
   ]
  },
  {
   "cell_type": "code",
   "execution_count": null,
   "id": "bfa98057-21e3-4502-a929-72f96cbeda3f",
   "metadata": {},
   "outputs": [],
   "source": []
  }
 ],
 "metadata": {
  "kernelspec": {
   "display_name": "Python 3 (ipykernel)",
   "language": "python",
   "name": "python3"
  },
  "language_info": {
   "codemirror_mode": {
    "name": "ipython",
    "version": 3
   },
   "file_extension": ".py",
   "mimetype": "text/x-python",
   "name": "python",
   "nbconvert_exporter": "python",
   "pygments_lexer": "ipython3",
   "version": "3.12.2"
  }
 },
 "nbformat": 4,
 "nbformat_minor": 5
}
